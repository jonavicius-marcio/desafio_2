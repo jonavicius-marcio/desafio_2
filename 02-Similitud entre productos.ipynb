{
 "cells": [
  {
   "cell_type": "code",
   "execution_count": 1,
   "id": "c505f504",
   "metadata": {},
   "outputs": [],
   "source": [
    "import seaborn as sns\n",
    "import matplotlib.pyplot as plt\n",
    "import pandas as pd\n",
    "import numpy as np\n",
    "import sklearn"
   ]
  },
  {
   "cell_type": "code",
   "execution_count": 2,
   "id": "c7ff0fd4",
   "metadata": {},
   "outputs": [],
   "source": [
    "import unidecode\n",
    "import unicodedata\n",
    "from sklearn.feature_extraction.text import  CountVectorizer\n",
    "from IPython.display import clear_output"
   ]
  },
  {
   "cell_type": "code",
   "execution_count": 3,
   "id": "69e9ced8",
   "metadata": {},
   "outputs": [],
   "source": [
    "pd.set_option(\"display.max_columns\", 200)\n",
    "pd.set_option(\"display.max_rows\", 50)\n",
    "pd.set_option('display.float_format', lambda x: '%.2f' % x)\n",
    "pd.set_option('display.max_colwidth', 1000)"
   ]
  },
  {
   "cell_type": "markdown",
   "id": "169e5a66",
   "metadata": {},
   "source": [
    "# 1) Read"
   ]
  },
  {
   "cell_type": "code",
   "execution_count": 4,
   "id": "241cba52",
   "metadata": {},
   "outputs": [],
   "source": [
    "items_titles_test = pd.read_csv('items_titles_test.csv')\n",
    "items_titles_test.columns = items_titles_test.columns.str.lower()"
   ]
  },
  {
   "cell_type": "code",
   "execution_count": 5,
   "id": "38075a3c",
   "metadata": {},
   "outputs": [],
   "source": [
    "items_titles_test['ite_item_title'] = items_titles_test['ite_item_title'].str.lower()"
   ]
  },
  {
   "cell_type": "code",
   "execution_count": 6,
   "id": "0a7f3b21",
   "metadata": {
    "scrolled": true
   },
   "outputs": [],
   "source": [
    "#items_titles_test =  items_titles_test.head(50).reset_index()"
   ]
  },
  {
   "cell_type": "code",
   "execution_count": 7,
   "id": "09239747",
   "metadata": {},
   "outputs": [],
   "source": [
    "def _score_similaridade(text_reference, text_compare):\n",
    "    n = 1 \n",
    "    # Instancia do contador de n-gramas\n",
    "    counts = CountVectorizer(analyzer = 'word', ngram_range = (n,n))\n",
    "    # Comparar textos\n",
    "    n_grams =  counts.fit_transform([text_reference, text_compare])\n",
    "    intersection_list = np.amin(n_grams.toarray(), axis = 0)\n",
    "    \n",
    "    # Calcular score\n",
    "    score = np.sum(intersection_list) / np.sum(n_grams.toarray()[0])\n",
    "    \n",
    "    return score\n",
    "    "
   ]
  },
  {
   "cell_type": "code",
   "execution_count": 8,
   "id": "d1f0a22f",
   "metadata": {},
   "outputs": [],
   "source": [
    "def create_score(): \n",
    "    items_titles_test['item_pair'] = np.nan\n",
    "    items_titles_test['score_similarida'] = 0    \n",
    "    \n",
    "    for ref, item_ref in items_titles_test.iterrows():\n",
    "        item_ref[\"ite_item_title\"] = unidecode.unidecode(item_ref[\"ite_item_title\"])\n",
    "\n",
    "        for index, item in items_titles_test.iterrows():\n",
    "            if index == ref: \n",
    "                continue\n",
    "            else: \n",
    "                item[\"ite_item_title\"] = unidecode.unidecode(item[\"ite_item_title\"])\n",
    "                score = _score_similaridade(item_ref[\"ite_item_title\"], item[\"ite_item_title\"])\n",
    "                \n",
    "                if score > item['score_similarida']:\n",
    "                    items_titles_test.loc[ref, ('score_similarida')] =  score\n",
    "                    items_titles_test.loc[ref, ('item_pair')] =  item['ite_item_title']      \n",
    "        clear_output(wait=True)                \n",
    "        print (ref) \n",
    "    return items_titles_test"
   ]
  },
  {
   "cell_type": "code",
   "execution_count": 9,
   "id": "f0931529",
   "metadata": {},
   "outputs": [
    {
     "name": "stdout",
     "output_type": "stream",
     "text": [
      "9999\n"
     ]
    }
   ],
   "source": [
    "items_titles_test = create_score()"
   ]
  },
  {
   "cell_type": "code",
   "execution_count": 38,
   "id": "42cfc379",
   "metadata": {},
   "outputs": [],
   "source": [
    "items_titles_test.to_csv('similaridade dos produtos.csv')"
   ]
  },
  {
   "cell_type": "code",
   "execution_count": 37,
   "id": "6c4f3792",
   "metadata": {},
   "outputs": [
    {
     "data": {
      "text/plain": [
       "10000"
      ]
     },
     "execution_count": 37,
     "metadata": {},
     "output_type": "execute_result"
    }
   ],
   "source": [
    "len(items_titles_test)"
   ]
  },
  {
   "cell_type": "code",
   "execution_count": 36,
   "id": "c0086214",
   "metadata": {},
   "outputs": [
    {
     "data": {
      "text/html": [
       "<div>\n",
       "<style scoped>\n",
       "    .dataframe tbody tr th:only-of-type {\n",
       "        vertical-align: middle;\n",
       "    }\n",
       "\n",
       "    .dataframe tbody tr th {\n",
       "        vertical-align: top;\n",
       "    }\n",
       "\n",
       "    .dataframe thead th {\n",
       "        text-align: right;\n",
       "    }\n",
       "</style>\n",
       "<table border=\"1\" class=\"dataframe\">\n",
       "  <thead>\n",
       "    <tr style=\"text-align: right;\">\n",
       "      <th></th>\n",
       "      <th>ite_item_title</th>\n",
       "      <th>item_pair</th>\n",
       "      <th>score_similarida</th>\n",
       "    </tr>\n",
       "  </thead>\n",
       "  <tbody>\n",
       "    <tr>\n",
       "      <th>0</th>\n",
       "      <td>tênis olympikus esporte valente - masculino kids</td>\n",
       "      <td>tenis polo ralph lauren modelo cantor low branco masculino</td>\n",
       "      <td>0.33</td>\n",
       "    </tr>\n",
       "    <tr>\n",
       "      <th>1</th>\n",
       "      <td>bicicleta barra forte samy c/ 6 marchas cubo c/ rolamento</td>\n",
       "      <td>bicicleta caloi andes aro 26 21v</td>\n",
       "      <td>0.14</td>\n",
       "    </tr>\n",
       "    <tr>\n",
       "      <th>2</th>\n",
       "      <td>tênis usthemp slip-on temático - labrador 2</td>\n",
       "      <td>tenis polo ralph lauren modelo cantor low branco masculino</td>\n",
       "      <td>0.17</td>\n",
       "    </tr>\n",
       "    <tr>\n",
       "      <th>3</th>\n",
       "      <td>tênis casual feminino moleca tecido tie dye</td>\n",
       "      <td>tenis polo ralph lauren modelo cantor low branco masculino</td>\n",
       "      <td>0.14</td>\n",
       "    </tr>\n",
       "    <tr>\n",
       "      <th>4</th>\n",
       "      <td>tênis star baby sapatinho conforto + brinde</td>\n",
       "      <td>tenis polo ralph lauren modelo cantor low branco masculino</td>\n",
       "      <td>0.17</td>\n",
       "    </tr>\n",
       "    <tr>\n",
       "      <th>5</th>\n",
       "      <td>tênis oakley frequency 3.0 preto/marrom</td>\n",
       "      <td>tenis polo ralph lauren modelo cantor low branco masculino</td>\n",
       "      <td>0.20</td>\n",
       "    </tr>\n",
       "    <tr>\n",
       "      <th>6</th>\n",
       "      <td>tênis jogging feminino premium super lançamento vizzano</td>\n",
       "      <td>tenis polo ralph lauren modelo cantor low branco masculino</td>\n",
       "      <td>0.14</td>\n",
       "    </tr>\n",
       "    <tr>\n",
       "      <th>7</th>\n",
       "      <td>under armour hovr phantom 2 conexão bluetooth tênis running</td>\n",
       "      <td>tenis polo ralph lauren modelo cantor low branco masculino</td>\n",
       "      <td>0.12</td>\n",
       "    </tr>\n",
       "    <tr>\n",
       "      <th>8</th>\n",
       "      <td>tenis infantil feminino menina criança moça</td>\n",
       "      <td>tenis polo ralph lauren modelo cantor low branco masculino</td>\n",
       "      <td>0.17</td>\n",
       "    </tr>\n",
       "    <tr>\n",
       "      <th>9</th>\n",
       "      <td>tênis labellamafia saturn 6 cores disponíveis</td>\n",
       "      <td>tenis polo ralph lauren modelo cantor low branco masculino</td>\n",
       "      <td>0.20</td>\n",
       "    </tr>\n",
       "    <tr>\n",
       "      <th>10</th>\n",
       "      <td>tênis feminino infantil cano alto estrela coração glitter</td>\n",
       "      <td>tenis polo ralph lauren modelo cantor low branco masculino</td>\n",
       "      <td>0.12</td>\n",
       "    </tr>\n",
       "    <tr>\n",
       "      <th>11</th>\n",
       "      <td>tênis masculino sport academia/caminhada esporte azul</td>\n",
       "      <td>tenis polo ralph lauren modelo cantor low branco masculino</td>\n",
       "      <td>0.29</td>\n",
       "    </tr>\n",
       "    <tr>\n",
       "      <th>12</th>\n",
       "      <td>sapatilhas sapatos esportivos sapatos casuais homem running</td>\n",
       "      <td>tenis under armour charged rebel running original 1magnus</td>\n",
       "      <td>0.14</td>\n",
       "    </tr>\n",
       "    <tr>\n",
       "      <th>13</th>\n",
       "      <td>tenis ous emergente copper essencial</td>\n",
       "      <td>tenis polo ralph lauren modelo cantor low branco masculino</td>\n",
       "      <td>0.20</td>\n",
       "    </tr>\n",
       "    <tr>\n",
       "      <th>14</th>\n",
       "      <td>1879202 tênis ramarim de amarrar</td>\n",
       "      <td>tenis polo ralph lauren modelo cantor low branco masculino</td>\n",
       "      <td>0.20</td>\n",
       "    </tr>\n",
       "    <tr>\n",
       "      <th>15</th>\n",
       "      <td>sapatênis couro legítimo forrado em couro solado costurado</td>\n",
       "      <td>sapatenis casual masculino estiloso 24horas conforto qualida</td>\n",
       "      <td>0.12</td>\n",
       "    </tr>\n",
       "    <tr>\n",
       "      <th>16</th>\n",
       "      <td>tenis feminino casual chunky vizzano dad sneaker tratorado</td>\n",
       "      <td>tenis polo ralph lauren modelo cantor low branco masculino</td>\n",
       "      <td>0.12</td>\n",
       "    </tr>\n",
       "    <tr>\n",
       "      <th>17</th>\n",
       "      <td>tênis fila d-formation - feminino</td>\n",
       "      <td>tenis polo ralph lauren modelo cantor low branco masculino</td>\n",
       "      <td>0.25</td>\n",
       "    </tr>\n",
       "    <tr>\n",
       "      <th>18</th>\n",
       "      <td>tênis infantil pé com pé masculino calce fácil azul menino</td>\n",
       "      <td>tenis polo ralph lauren modelo cantor low branco masculino</td>\n",
       "      <td>0.20</td>\n",
       "    </tr>\n",
       "    <tr>\n",
       "      <th>19</th>\n",
       "      <td>tênis feminino luana têxtil malu super comfort azul marinho</td>\n",
       "      <td>tenis polo ralph lauren modelo cantor low branco masculino</td>\n",
       "      <td>0.11</td>\n",
       "    </tr>\n",
       "  </tbody>\n",
       "</table>\n",
       "</div>"
      ],
      "text/plain": [
       "                                                 ite_item_title  \\\n",
       "0              tênis olympikus esporte valente - masculino kids   \n",
       "1     bicicleta barra forte samy c/ 6 marchas cubo c/ rolamento   \n",
       "2                  tênis usthemp slip-on temático - labrador 2   \n",
       "3                   tênis casual feminino moleca tecido tie dye   \n",
       "4                   tênis star baby sapatinho conforto + brinde   \n",
       "5                       tênis oakley frequency 3.0 preto/marrom   \n",
       "6       tênis jogging feminino premium super lançamento vizzano   \n",
       "7   under armour hovr phantom 2 conexão bluetooth tênis running   \n",
       "8                   tenis infantil feminino menina criança moça   \n",
       "9                 tênis labellamafia saturn 6 cores disponíveis   \n",
       "10    tênis feminino infantil cano alto estrela coração glitter   \n",
       "11        tênis masculino sport academia/caminhada esporte azul   \n",
       "12  sapatilhas sapatos esportivos sapatos casuais homem running   \n",
       "13                         tenis ous emergente copper essencial   \n",
       "14                             1879202 tênis ramarim de amarrar   \n",
       "15   sapatênis couro legítimo forrado em couro solado costurado   \n",
       "16   tenis feminino casual chunky vizzano dad sneaker tratorado   \n",
       "17                            tênis fila d-formation - feminino   \n",
       "18   tênis infantil pé com pé masculino calce fácil azul menino   \n",
       "19  tênis feminino luana têxtil malu super comfort azul marinho   \n",
       "\n",
       "                                                       item_pair  \\\n",
       "0     tenis polo ralph lauren modelo cantor low branco masculino   \n",
       "1                               bicicleta caloi andes aro 26 21v   \n",
       "2     tenis polo ralph lauren modelo cantor low branco masculino   \n",
       "3     tenis polo ralph lauren modelo cantor low branco masculino   \n",
       "4     tenis polo ralph lauren modelo cantor low branco masculino   \n",
       "5     tenis polo ralph lauren modelo cantor low branco masculino   \n",
       "6     tenis polo ralph lauren modelo cantor low branco masculino   \n",
       "7     tenis polo ralph lauren modelo cantor low branco masculino   \n",
       "8     tenis polo ralph lauren modelo cantor low branco masculino   \n",
       "9     tenis polo ralph lauren modelo cantor low branco masculino   \n",
       "10    tenis polo ralph lauren modelo cantor low branco masculino   \n",
       "11    tenis polo ralph lauren modelo cantor low branco masculino   \n",
       "12     tenis under armour charged rebel running original 1magnus   \n",
       "13    tenis polo ralph lauren modelo cantor low branco masculino   \n",
       "14    tenis polo ralph lauren modelo cantor low branco masculino   \n",
       "15  sapatenis casual masculino estiloso 24horas conforto qualida   \n",
       "16    tenis polo ralph lauren modelo cantor low branco masculino   \n",
       "17    tenis polo ralph lauren modelo cantor low branco masculino   \n",
       "18    tenis polo ralph lauren modelo cantor low branco masculino   \n",
       "19    tenis polo ralph lauren modelo cantor low branco masculino   \n",
       "\n",
       "    score_similarida  \n",
       "0               0.33  \n",
       "1               0.14  \n",
       "2               0.17  \n",
       "3               0.14  \n",
       "4               0.17  \n",
       "5               0.20  \n",
       "6               0.14  \n",
       "7               0.12  \n",
       "8               0.17  \n",
       "9               0.20  \n",
       "10              0.12  \n",
       "11              0.29  \n",
       "12              0.14  \n",
       "13              0.20  \n",
       "14              0.20  \n",
       "15              0.12  \n",
       "16              0.12  \n",
       "17              0.25  \n",
       "18              0.20  \n",
       "19              0.11  "
      ]
     },
     "execution_count": 36,
     "metadata": {},
     "output_type": "execute_result"
    }
   ],
   "source": [
    "items_titles_test.head(20)"
   ]
  },
  {
   "cell_type": "code",
   "execution_count": null,
   "id": "52afc803",
   "metadata": {},
   "outputs": [],
   "source": []
  },
  {
   "cell_type": "markdown",
   "id": "fe7fa6ad",
   "metadata": {},
   "source": [
    "Exemplo do cálculo"
   ]
  },
  {
   "cell_type": "code",
   "execution_count": 24,
   "id": "718befa7",
   "metadata": {},
   "outputs": [],
   "source": [
    "text1 = 'Tênis Olympikus Esporte Valente - Feminino Kids'\n",
    "text2 = 'Tênis Casual Feminino Moleca Tecido Tie Dye'"
   ]
  },
  {
   "cell_type": "code",
   "execution_count": 25,
   "id": "dcd95ac6",
   "metadata": {},
   "outputs": [],
   "source": [
    "n = 1 \n",
    "# Instancia do contador de n-gramas\n",
    "counts = CountVectorizer(analyzer = 'word', ngram_range = (n,n))"
   ]
  },
  {
   "cell_type": "code",
   "execution_count": 26,
   "id": "754c8741",
   "metadata": {},
   "outputs": [],
   "source": [
    "voc = counts.fit([text1, text2]).vocabulary_\n",
    "n_grams =  counts.fit_transform([text1, text2])"
   ]
  },
  {
   "cell_type": "code",
   "execution_count": 27,
   "id": "09653418",
   "metadata": {},
   "outputs": [],
   "source": [
    "n_grams_array = n_grams.toarray()"
   ]
  },
  {
   "cell_type": "code",
   "execution_count": 28,
   "id": "824825fb",
   "metadata": {},
   "outputs": [
    {
     "name": "stdout",
     "output_type": "stream",
     "text": [
      "{'tênis': 9, 'olympikus': 6, 'esporte': 2, 'valente': 10, 'feminino': 3, 'kids': 4, 'casual': 0, 'moleca': 5, 'tecido': 7, 'tie': 8, 'dye': 1}\n"
     ]
    }
   ],
   "source": [
    "print(voc)"
   ]
  },
  {
   "cell_type": "code",
   "execution_count": 29,
   "id": "1e2f0724",
   "metadata": {},
   "outputs": [],
   "source": [
    "intersection_list = np.amin(n_grams.toarray(), axis = 0)\n",
    "intersection_count = np.sum(intersection_list)"
   ]
  },
  {
   "cell_type": "code",
   "execution_count": 30,
   "id": "657d590e",
   "metadata": {},
   "outputs": [
    {
     "data": {
      "text/plain": [
       "2"
      ]
     },
     "execution_count": 30,
     "metadata": {},
     "output_type": "execute_result"
    }
   ],
   "source": [
    "intersection_count"
   ]
  },
  {
   "cell_type": "code",
   "execution_count": 33,
   "id": "3cb3e621",
   "metadata": {},
   "outputs": [],
   "source": [
    "A_count = np.sum(n_grams.toarray()[0])"
   ]
  },
  {
   "cell_type": "code",
   "execution_count": 34,
   "id": "48120dcf",
   "metadata": {},
   "outputs": [
    {
     "data": {
      "text/plain": [
       "0.3333333333333333"
      ]
     },
     "execution_count": 34,
     "metadata": {},
     "output_type": "execute_result"
    }
   ],
   "source": [
    "# score de similitud\n",
    "intersection_count / A_count"
   ]
  },
  {
   "cell_type": "code",
   "execution_count": 35,
   "id": "e0be139a",
   "metadata": {},
   "outputs": [
    {
     "name": "stdout",
     "output_type": "stream",
     "text": [
      "[[0 0 1 1 1 0 1 0 0 1 1]\n",
      " [1 1 0 1 0 1 0 1 1 1 0]]\n"
     ]
    }
   ],
   "source": [
    "print(n_grams_array)"
   ]
  },
  {
   "cell_type": "code",
   "execution_count": null,
   "id": "1ba9f158",
   "metadata": {},
   "outputs": [],
   "source": []
  },
  {
   "cell_type": "code",
   "execution_count": null,
   "id": "722a40df",
   "metadata": {},
   "outputs": [],
   "source": []
  },
  {
   "cell_type": "code",
   "execution_count": null,
   "id": "e62e83c3",
   "metadata": {},
   "outputs": [],
   "source": []
  },
  {
   "cell_type": "code",
   "execution_count": null,
   "id": "de739259",
   "metadata": {},
   "outputs": [],
   "source": []
  }
 ],
 "metadata": {
  "kernelspec": {
   "display_name": "Python 3 (ipykernel)",
   "language": "python",
   "name": "python3"
  },
  "language_info": {
   "codemirror_mode": {
    "name": "ipython",
    "version": 3
   },
   "file_extension": ".py",
   "mimetype": "text/x-python",
   "name": "python",
   "nbconvert_exporter": "python",
   "pygments_lexer": "ipython3",
   "version": "3.10.9"
  }
 },
 "nbformat": 4,
 "nbformat_minor": 5
}
